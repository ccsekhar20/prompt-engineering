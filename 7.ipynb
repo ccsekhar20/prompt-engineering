{
 "cells": [
  {
   "cell_type": "code",
   "execution_count": 11,
   "id": "c10b2bb9-a676-4571-afdc-62c4eb24557c",
   "metadata": {},
   "outputs": [],
   "source": [
    "# Import necessary libraries\n",
    "from PyPDF2 import PdfReader\n",
    "from langchain.embeddings.openai import OpenAIEmbeddings\n",
    "from langchain.text_splitter import CharacterTextSplitter\n",
    "from langchain.vectorstores import FAISS"
   ]
  },
  {
   "cell_type": "code",
   "execution_count": 12,
   "id": "9deb11a7-03f5-4451-9bcb-300558cebbef",
   "metadata": {},
   "outputs": [],
   "source": [
    "# Set OpenAI API key"
   ]
  },
  {
   "cell_type": "code",
   "execution_count": 13,
   "id": "e28f8fd8-4fc5-4d46-a4a6-34d5709b4ec1",
   "metadata": {},
   "outputs": [],
   "source": [
    "# Read the PDF file\n",
    "reader = PdfReader('/Users/ccsekhar/Downloads/archive/data/data/ACCOUNTANT/10554236.pdf')"
   ]
  },
  {
   "cell_type": "code",
   "execution_count": 14,
   "id": "c50887f6-bc38-4ba8-89d3-e2ca43833494",
   "metadata": {},
   "outputs": [],
   "source": [
    "# Iterate through each page in the PDF and extract text\n",
    "raw_text = ''\n",
    "for i, page in enumerate(reader.pages):\n",
    "    text = page.extract_text()\n",
    "    if text:\n",
    "        raw_text += text"
   ]
  },
  {
   "cell_type": "code",
   "execution_count": 15,
   "id": "3b55fbdb-b070-4bce-82e7-9c7087b0ccf2",
   "metadata": {},
   "outputs": [],
   "source": [
    "# Split the raw text into chunks using the text splitter\n",
    "text_splitter = CharacterTextSplitter(\n",
    "    separator = \"\\n\",\n",
    "    chunk_size = 1000,\n",
    "    chunk_overlap  = 200,\n",
    "    length_function = len,\n",
    ")\n",
    "texts = text_splitter.split_text(raw_text)"
   ]
  },
  {
   "cell_type": "code",
   "execution_count": 16,
   "id": "26b84d56-7418-43bc-83dc-521e7fdb34ab",
   "metadata": {},
   "outputs": [],
   "source": [
    "# Initialize OpenAI embeddings\n",
    "embeddings = OpenAIEmbeddings()"
   ]
  },
  {
   "cell_type": "code",
   "execution_count": 17,
   "id": "2a35815a-3a1c-496c-910f-b3325d1fbd87",
   "metadata": {},
   "outputs": [],
   "source": [
    "# Create a FAISS index for similarity search from the text chunks\n",
    "docsearch = FAISS.from_texts(texts, embeddings)"
   ]
  },
  {
   "cell_type": "code",
   "execution_count": 18,
   "id": "af5b9daa-a355-4c81-90c4-8e301b3f6dbb",
   "metadata": {},
   "outputs": [],
   "source": [
    "# Import the necessary modules for the question answering chain\n",
    "from langchain.chains.question_answering import load_qa_chain\n",
    "from langchain.llms import OpenAI"
   ]
  },
  {
   "cell_type": "code",
   "execution_count": 19,
   "id": "d1b6255e-0768-40b5-b5ee-b3859c9a633d",
   "metadata": {},
   "outputs": [],
   "source": [
    "# Load the question answering chain\n",
    "chain = load_qa_chain(OpenAI(), chain_type = \"stuff\")"
   ]
  },
  {
   "cell_type": "code",
   "execution_count": null,
   "id": "8e42b3db-1d1d-496f-9be5-8364f46204fa",
   "metadata": {},
   "outputs": [],
   "source": [
    "# Run the question answering chain (to summarize)\n",
    "query = \"Can you summarize the resume using key-value pairs? (Make sure to include all the important information in a listed order)\"\n",
    "docs = docsearch.similarity_search(query)\n",
    "chain.run(input_documents = docs, question = query)"
   ]
  }
 ],
 "metadata": {
  "kernelspec": {
   "display_name": "Python 3 (ipykernel)",
   "language": "python",
   "name": "python3"
  },
  "language_info": {
   "codemirror_mode": {
    "name": "ipython",
    "version": 3
   },
   "file_extension": ".py",
   "mimetype": "text/x-python",
   "name": "python",
   "nbconvert_exporter": "python",
   "pygments_lexer": "ipython3",
   "version": "3.11.4"
  }
 },
 "nbformat": 4,
 "nbformat_minor": 5
}
